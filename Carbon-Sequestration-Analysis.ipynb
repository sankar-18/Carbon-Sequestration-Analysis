{
  "nbformat": 4,
  "nbformat_minor": 0,
  "metadata": {
    "colab": {
      "provenance": []
    },
    "kernelspec": {
      "name": "python3",
      "display_name": "Python 3"
    }
  },
  "cells": [
    {
      "cell_type": "code",
      "metadata": {
        "id": "0SGpmS1g4rPK"
      },
      "source": [
        "from numpy import log as ln"
      ],
      "execution_count": null,
      "outputs": []
    },
    {
      "cell_type": "code",
      "metadata": {
        "colab": {
          "base_uri": "https://localhost:8080/"
        },
        "id": "k0s0E3kb46jt",
        "outputId": "affb642d-ea04-4b2e-87fb-c99684f33b1b"
      },
      "source": [
        "#Rubber Tree\n",
        "\n",
        "Total_Rubber_trees_Predicted = 15340 #(13% of total trees prediction)\n",
        "Total_Pine_trees_Predicted = 102660  #(87% of total trees prediction)\n",
        "x1 = 2020 #year\n",
        "x2 = 2021 #year\n",
        "y1 = 0 #carbon stored\n",
        "y2 = 0 #carbon stored\n",
        "\n",
        "#Total additionality of C stored through trees for 2020 for 15k count:\n",
        "y1 = 453643.737589962*ln(x1)-3449595.48627931\n",
        "\n",
        "#Total additionality of C stored through trees for 2021 15k count:\n",
        "y2 = 453643.737589962*ln(x2)-3449595.48627931\n",
        "\n",
        "\n",
        "#Total additionality of C stored through trees in a Year\n",
        "y= abs(y2-y1)\n",
        "\n",
        "x = y/(15000) #(carbon per tree in tons)\n",
        "\n",
        "print(\"Actual Rubber trees:\")\n",
        "print('15000')\n",
        "\n",
        "print(\"Actual Total additionality of C stored in Rubber trees/year in tons: \")\n",
        "print(y)\n",
        "\n",
        "print(\"Actual Total additionality of C02 stored in Rubber trees/year in tons: \")\n",
        "a = y*(44/12)\n",
        "print(a)\n",
        "\n",
        "print(\"Predicted Rubber trees:\")\n",
        "print(Total_Rubber_trees_Predicted)\n",
        "print(\"Predicted Total additionality of C stored in Rubber trees/year in tons: \")\n",
        "b = x*Total_Rubber_trees_Predicted\n",
        "print(b)\n",
        "\n",
        "print(\"Predicted Total additionality of C02 stored in Rubber trees/year in tons: \")\n",
        "c= x*Total_Rubber_trees_Predicted*(44/12)\n",
        "print(c)\n"
      ],
      "execution_count": null,
      "outputs": [
        {
          "output_type": "stream",
          "text": [
            "Actual Rubber trees:\n",
            "15000\n",
            "Actual Total additionality of C stored in Rubber trees/year in tons: \n",
            "224.52053791144863\n",
            "Actual Total additionality of C02 stored in Rubber trees/year in tons: \n",
            "823.2419723419782\n",
            "Predicted Rubber trees:\n",
            "15340\n",
            "Predicted Total additionality of C stored in Rubber trees/year in tons: \n",
            "229.60967010410812\n",
            "Predicted Total additionality of C02 stored in Rubber trees/year in tons: \n",
            "841.9021237150631\n"
          ],
          "name": "stdout"
        }
      ]
    },
    {
      "cell_type": "code",
      "metadata": {
        "colab": {
          "base_uri": "https://localhost:8080/"
        },
        "id": "i19vOqKrRZKx",
        "outputId": "dbc425a6-70a0-40b0-f377-0b0c6596f9ef"
      },
      "source": [
        "#PineApple plants\n",
        "\n",
        "#Total additionality of C stored through plants for 2019 for 1 lakh count:\n",
        "y3 = 62400.9647543156*ln(x1)-474639.726413728\n",
        "\n",
        "#Total additionality of C stored through plants for 2020 1 lakh count:\n",
        "y4 = 62400.9647543156*ln(x2)-474639.726413728\n",
        "\n",
        "\n",
        "#Total additionality of C stored through plants in a Year\n",
        "y0= abs(y4-y3)\n",
        "\n",
        "x0 = y0/(100000) #carbon per plant in tons\n",
        "\n",
        "print(\"Actual Pineapple plants:\")\n",
        "print('100000')\n",
        "\n",
        "print(\"Actual Total additionality of C stored in Pineapple plants/year in tons: \")\n",
        "print(y0)\n",
        "\n",
        "print(\"Actual Total additionality of C02 stored in Pineapple plants/year in tons: \")\n",
        "a1=y0*(44/12)\n",
        "print(a1)\n",
        "\n",
        "print(\"Predicted Pineapple plants:\")\n",
        "print(Total_Pine_trees_Predicted)\n",
        "print(\"Predicted Total additionality of C stored in Pineapple plants/year in tons: \")\n",
        "b1=x0*Total_Pine_trees_Predicted\n",
        "print(b1)\n",
        "\n",
        "print(\"Predicted Total additionality of C02 stored in Pineapple plants/year in tons: \")\n",
        "c1=x0*Total_Pine_trees_Predicted*(44/12)\n",
        "print(c1)\n"
      ],
      "execution_count": null,
      "outputs": [
        {
          "output_type": "stream",
          "text": [
            "Actual Pineapple plants:\n",
            "100000\n",
            "Actual Total additionality of C stored in Pineapple plants/year in tons: \n",
            "30.88392280531116\n",
            "Actual Total additionality of C02 stored in Pineapple plants/year in tons: \n",
            "113.2410502861409\n",
            "Predicted Pineapple plants:\n",
            "102660\n",
            "Predicted Total additionality of C stored in Pineapple plants/year in tons: \n",
            "31.705435151932438\n",
            "Predicted Total additionality of C02 stored in Pineapple plants/year in tons: \n",
            "116.25326222375227\n"
          ],
          "name": "stdout"
        }
      ]
    },
    {
      "cell_type": "code",
      "metadata": {
        "colab": {
          "base_uri": "https://localhost:8080/"
        },
        "id": "AisRO-_sfRVC",
        "outputId": "ba8b77c4-7c5f-4cf4-e6ab-7f5e1e4f3d06"
      },
      "source": [
        "#Total carbon (Rubber + Pineapple)\n",
        "\n",
        "print(\"Actual Trees/plants:\")\n",
        "print('115000')\n",
        "\n",
        "print(\"Actual Total additionality of C stored in total trees/year in tons: \")\n",
        "print((y+y0))\n",
        "\n",
        "print(\"Actual Total additionality of C02 stored in total trees/year in tons: \")\n",
        "print(a+a1)\n",
        "\n",
        "print(\"Predicted total trees:\")\n",
        "print(Total_Rubber_trees_Predicted+Total_Pine_trees_Predicted)\n",
        "print(\"Predicted Total additionality of C stored in total trees/year in tons: \")\n",
        "print(b+b1)\n",
        "\n",
        "print(\"Predicted Total additionality of C02 stored in total trees/year in tons: \")\n",
        "print(c+c1)"
      ],
      "execution_count": null,
      "outputs": [
        {
          "output_type": "stream",
          "text": [
            "Actual Trees/plants:\n",
            "115000\n",
            "Actual Total additionality of C stored in total trees/year in tons: \n",
            "255.4044607167598\n",
            "Actual Total additionality of C02 stored in total trees/year in tons: \n",
            "936.4830226281191\n",
            "Predicted total trees:\n",
            "118000\n",
            "Predicted Total additionality of C stored in total trees/year in tons: \n",
            "261.31510525604057\n",
            "Predicted Total additionality of C02 stored in total trees/year in tons: \n",
            "958.1553859388154\n"
          ],
          "name": "stdout"
        }
      ]
    },
    {
      "cell_type": "code",
      "metadata": {
        "colab": {
          "base_uri": "https://localhost:8080/"
        },
        "id": "u7cm0QfdjnMl",
        "outputId": "4f192090-ff43-4180-c542-5e9cc9d4325d"
      },
      "source": [
        "#Total c and co2 using linear regression\n",
        "\n",
        "#Total additionality of C stored through plants for 2020 for all trees:\n",
        "y5 = 516044.702344278*ln(x1)-3924235.21296304\n",
        "\n",
        "#Total additionality of C stored through plants for 2021  all trees:\n",
        "y6 = 516044.702344278*ln(x2)-3924235.21296304\n",
        "\n",
        "\n",
        "#Total additionality of C stored through Trees/plants in a Year\n",
        "y01= abs(y6-y5)\n",
        "\n",
        "x01 = y01/(115000) #carbon per tree/plant in tons\n",
        "\n",
        "print(\"Actual Trees/plants:\")\n",
        "print('115000')\n",
        "\n",
        "print(\"Actual Total additionality of C stored in all trees and plants/year in tons: \")\n",
        "print(y01)\n",
        "\n",
        "print(\"Actual Total additionality of C02 stored in all trees plants/year in tons: \")\n",
        "a11=y01*(44/12)\n",
        "print(a11)\n",
        "\n",
        "print(\"Predicted Trees/plants:\")\n",
        "print(Total_Rubber_trees_Predicted+Total_Pine_trees_Predicted)\n",
        "print(\"Predicted Total additionality of C stored in all trees and plants/year in tons: \")\n",
        "b11=x01*(Total_Rubber_trees_Predicted+Total_Pine_trees_Predicted)\n",
        "print(b11)\n",
        "\n",
        "print(\"Predicted Total additionality of C02 stored in all trees plants/year in tons: \")\n",
        "c11=x01*(Total_Rubber_trees_Predicted+Total_Pine_trees_Predicted)*(44/12)\n",
        "print(c11)"
      ],
      "execution_count": null,
      "outputs": [
        {
          "output_type": "stream",
          "text": [
            "Actual Trees/plants:\n",
            "115000\n",
            "Actual Total additionality of C stored in all trees and plants/year in tons: \n",
            "255.40446071745828\n",
            "Actual Total additionality of C02 stored in all trees plants/year in tons: \n",
            "936.4830226306804\n",
            "Predicted Trees/plants:\n",
            "118000\n",
            "Predicted Total additionality of C stored in all trees and plants/year in tons: \n",
            "262.06718577965285\n",
            "Predicted Total additionality of C02 stored in all trees plants/year in tons: \n",
            "960.9130145253937\n"
          ],
          "name": "stdout"
        }
      ]
    }
  ]
}